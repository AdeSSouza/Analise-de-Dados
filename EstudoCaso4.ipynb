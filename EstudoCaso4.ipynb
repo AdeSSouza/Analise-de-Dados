{
 "cells": [
  {
   "cell_type": "markdown",
   "metadata": {
    "id": "df4d87a1-f09e-4f54-85d4-5c39e688268b"
   },
   "source": [
    "# <font color='blue'>Data Science Academy</font>\n",
    "# <font color='blue'>Big Data Real-Time Analytics com Python e Spark</font>\n",
    "\n",
    "## <font color='blue'>Estudo de Caso 4</font>\n",
    "\n",
    "## <font color='blue'>Engenharia de Atributos Para E-Commerce Analytics</font>"
   ]
  },
  {
   "cell_type": "markdown",
   "metadata": {},
   "source": [
    "Obs: Estaremos trabalhando em um grande projeto de Ciência de Dados distribuído em 3 capítulos:\n",
    "\n",
    "- Análise Exploratória de Dados\n",
    "    - EDA Parte 1\n",
    "    - EDA Parte 2\n",
    "- **Engenharia de Atributos**\n",
    "- Pré-Processamento de Dados"
   ]
  },
  {
   "cell_type": "markdown",
   "metadata": {},
   "source": [
    "A Engenharia de Atributos refere-se ao processo de usar o conhecimento do domínio (área de negócio) para remover, selecionar e transformar os dados, mantendo somente os atributos mais relevantes."
   ]
  },
  {
   "cell_type": "markdown",
   "metadata": {},
   "source": [
    "![title](imagens/EstudoCaso4.png)"
   ]
  },
  {
   "cell_type": "code",
   "execution_count": null,
   "metadata": {},
   "outputs": [],
   "source": [
    "# Versão da Linguagem Python\n",
    "from platform import python_version\n",
    "print('Versão da Linguagem Python Usada Neste Jupyter Notebook:', python_version())"
   ]
  },
  {
   "cell_type": "code",
   "execution_count": null,
   "metadata": {},
   "outputs": [],
   "source": [
    "# Para atualizar um pacote, execute o comando abaixo no terminal ou prompt de comando:\n",
    "# pip install -U nome_pacote\n",
    "\n",
    "# Para instalar a versão exata de um pacote, execute o comando abaixo no terminal ou prompt de comando:\n",
    "#!pip install nome_pacote==versão_desejada\n",
    "\n",
    "# Depois de instalar ou atualizar o pacote, reinicie o jupyter notebook.\n",
    "\n",
    "# Instala o pacote watermark. \n",
    "# Esse pacote é usado para gravar as versões de outros pacotes usados neste jupyter notebook.\n",
    "#!pip install -q -U watermark"
   ]
  },
  {
   "cell_type": "code",
   "execution_count": null,
   "metadata": {
    "id": "6da754d5-db10-4626-b5d3-9a0125483d6e"
   },
   "outputs": [],
   "source": [
    "# Imports\n",
    "import scipy\n",
    "import numpy as np\n",
    "import pandas as pd\n",
    "import matplotlib.pyplot as plt\n",
    "import seaborn as sns\n",
    "from scipy import stats"
   ]
  },
  {
   "cell_type": "code",
   "execution_count": null,
   "metadata": {},
   "outputs": [],
   "source": [
    "# Versões dos pacotes usados neste jupyter notebook\n",
    "%reload_ext watermark\n",
    "%watermark -a \"Data Science Academy\" --iversions"
   ]
  },
  {
   "cell_type": "markdown",
   "metadata": {
    "id": "0402fac6-6a28-422d-ae5b-3eba35a4d3ea"
   },
   "source": [
    "## Carregando o Dataset"
   ]
  },
  {
   "cell_type": "code",
   "execution_count": null,
   "metadata": {
    "id": "898ab2f1-c855-49b6-aa37-ec6c26c3a89b"
   },
   "outputs": [],
   "source": [
    "# Carrega o dataset\n",
    "df = pd.read_csv('dados/dataset.csv')"
   ]
  },
  {
   "cell_type": "code",
   "execution_count": null,
   "metadata": {},
   "outputs": [],
   "source": [
    "df.shape"
   ]
  },
  {
   "cell_type": "code",
   "execution_count": null,
   "metadata": {},
   "outputs": [],
   "source": [
    "df.head()"
   ]
  },
  {
   "cell_type": "code",
   "execution_count": null,
   "metadata": {
    "colab": {
     "base_uri": "https://localhost:8080/"
    },
    "executionInfo": {
     "elapsed": 354,
     "status": "ok",
     "timestamp": 1649600907074,
     "user": {
      "displayName": "Muhammad Hamzah",
      "userId": "06012328832276120437"
     },
     "user_tz": -420
    },
    "id": "IyX0ACtfav2M",
    "outputId": "8cfd91bb-c186-4290-e273-fc191aee1394"
   },
   "outputs": [],
   "source": [
    "df.info()"
   ]
  },
  {
   "cell_type": "code",
   "execution_count": null,
   "metadata": {},
   "outputs": [],
   "source": [
    "df.columns"
   ]
  },
  {
   "cell_type": "code",
   "execution_count": null,
   "metadata": {
    "id": "yhPRgkRoa48c"
   },
   "outputs": [],
   "source": [
    "# Variáveis numéricas\n",
    "nums = ['numero_chamadas_cliente', \n",
    "        'avaliacao_cliente', \n",
    "        'compras_anteriores', \n",
    "        'desconto', \n",
    "        'custo_produto', \n",
    "        'peso_gramas']"
   ]
  },
  {
   "cell_type": "code",
   "execution_count": null,
   "metadata": {},
   "outputs": [],
   "source": [
    "# Variáveis categóricas\n",
    "cats = ['modo_envio', \n",
    "        'prioridade_produto', \n",
    "        'genero',\n",
    "        'corredor_armazem']"
   ]
  },
  {
   "cell_type": "code",
   "execution_count": null,
   "metadata": {},
   "outputs": [],
   "source": [
    "# Variável target\n",
    "target = ['entregue_no_prazo'] "
   ]
  },
  {
   "cell_type": "code",
   "execution_count": null,
   "metadata": {
    "colab": {
     "base_uri": "https://localhost:8080/",
     "height": 300
    },
    "executionInfo": {
     "elapsed": 359,
     "status": "ok",
     "timestamp": 1649600947048,
     "user": {
      "displayName": "Muhammad Hamzah",
      "userId": "06012328832276120437"
     },
     "user_tz": -420
    },
    "id": "p02KGYfsa_X8",
    "outputId": "bdbaf862-8223-4663-a2a5-ecee41d34afa"
   },
   "outputs": [],
   "source": [
    "df[nums].describe()"
   ]
  },
  {
   "cell_type": "code",
   "execution_count": null,
   "metadata": {
    "colab": {
     "base_uri": "https://localhost:8080/",
     "height": 175
    },
    "executionInfo": {
     "elapsed": 344,
     "status": "ok",
     "timestamp": 1649601019859,
     "user": {
      "displayName": "Muhammad Hamzah",
      "userId": "06012328832276120437"
     },
     "user_tz": -420
    },
    "id": "AiTAj4CvbTLN",
    "outputId": "edd61641-0ef3-49a1-9588-ac3b881f9afe"
   },
   "outputs": [],
   "source": [
    "df[cats].describe()"
   ]
  },
  {
   "cell_type": "code",
   "execution_count": null,
   "metadata": {},
   "outputs": [],
   "source": [
    "df[target].value_counts()"
   ]
  },
  {
   "cell_type": "markdown",
   "metadata": {
    "id": "50f87511-3781-4138-8f04-0d7bdaef817e"
   },
   "source": [
    "## Limpeza de Dados"
   ]
  },
  {
   "cell_type": "markdown",
   "metadata": {
    "id": "d5ed63e6-3812-4887-88a7-4af466fcc580"
   },
   "source": [
    "### Tratamento de Valores Ausentes\n",
    "\n",
    "**ATENÇÃO**: Valor ausente significa ausência de informação e não ausência de dado!\n",
    "\n",
    "O tratamento pode ser feito antes, durante ou depois da Análise Exploratória, mas idealmente deve ser feito antes da Engenharia de Atributos. Mas fique atento: a Engenharia de Atributos e o Pré-Processamento podem gerar valores ausentes, o que precisa ser tratado."
   ]
  },
  {
   "cell_type": "code",
   "execution_count": null,
   "metadata": {},
   "outputs": [],
   "source": [
    "df.head(3)"
   ]
  },
  {
   "cell_type": "code",
   "execution_count": null,
   "metadata": {
    "colab": {
     "base_uri": "https://localhost:8080/"
    },
    "executionInfo": {
     "elapsed": 358,
     "status": "ok",
     "timestamp": 1649601122441,
     "user": {
      "displayName": "Muhammad Hamzah",
      "userId": "06012328832276120437"
     },
     "user_tz": -420
    },
    "id": "ce59c078-5223-48ec-a354-f150c1eadb25",
    "outputId": "57db3686-acb6-44fd-bd5a-d7d25ccf1f22"
   },
   "outputs": [],
   "source": [
    "# Verifica se há valores ausentes\n",
    "df.isna().sum()"
   ]
  },
  {
   "cell_type": "markdown",
   "metadata": {
    "id": "866d65e4-acc7-488b-b72d-478796a02252",
    "tags": []
   },
   "source": [
    "### Tratamento de Valores Duplicados\n",
    "\n",
    "Valores duplicados significam duplicidade dos dados em toda a linha (todo o registro).\n",
    "\n",
    "O tratamento pode ser feito antes, durante ou depois da Análise Exploratória, mas idealmente deve ser feito antes da Engenharia de Atributos."
   ]
  },
  {
   "cell_type": "code",
   "execution_count": null,
   "metadata": {},
   "outputs": [],
   "source": [
    "df.head(3)"
   ]
  },
  {
   "cell_type": "code",
   "execution_count": null,
   "metadata": {
    "colab": {
     "base_uri": "https://localhost:8080/"
    },
    "executionInfo": {
     "elapsed": 361,
     "status": "ok",
     "timestamp": 1649601167857,
     "user": {
      "displayName": "Muhammad Hamzah",
      "userId": "06012328832276120437"
     },
     "user_tz": -420
    },
    "id": "2a592cca-7137-45ef-a701-d247650f1f14",
    "outputId": "77f10718-dbc0-4b06-94a7-c4f0602b2d74"
   },
   "outputs": [],
   "source": [
    "# Verifica se há valores duplicados\n",
    "df.duplicated().sum()"
   ]
  },
  {
   "cell_type": "markdown",
   "metadata": {
    "id": "dd8b23e3-f25e-45c2-bdcb-25b57c038f83"
   },
   "source": [
    "### Tratamento de Valores Outliers\n",
    "\n",
    "Leia o manual em pdf com a definição do que é o z-score e a definição de valor outlier.\n",
    "\n",
    "O tratamento pode ser feito antes, durante ou depois da Análise Exploratória, mas idealmente deve ser feito antes da Engenharia de Atributos. "
   ]
  },
  {
   "cell_type": "code",
   "execution_count": null,
   "metadata": {},
   "outputs": [],
   "source": [
    "print(f'Número de linhas antes de filtrar valores extremos (outliers): {len(df)}')"
   ]
  },
  {
   "cell_type": "code",
   "execution_count": null,
   "metadata": {},
   "outputs": [],
   "source": [
    "df[nums].head()"
   ]
  },
  {
   "cell_type": "code",
   "execution_count": null,
   "metadata": {},
   "outputs": [],
   "source": [
    "df.desconto.mean()"
   ]
  },
  {
   "cell_type": "code",
   "execution_count": null,
   "metadata": {},
   "outputs": [],
   "source": [
    "df.desconto.std()"
   ]
  },
  {
   "cell_type": "code",
   "execution_count": null,
   "metadata": {},
   "outputs": [],
   "source": [
    "df.desconto.hist()"
   ]
  },
  {
   "cell_type": "code",
   "execution_count": null,
   "metadata": {},
   "outputs": [],
   "source": [
    "# Calcula os limites superior e inferior\n",
    "# Um valor outlier é aquele que está abaixo do limite inferior ou acima do limite superior\n",
    "limite_superior = df.desconto.mean() + 3 * df.desconto.std()\n",
    "print(\"Valor superior:\", limite_superior)\n",
    "limite_inferior = df.desconto.mean() - 3 * df.desconto.std()\n",
    "print(\"Valor inferior:\", limite_inferior)"
   ]
  },
  {
   "cell_type": "code",
   "execution_count": null,
   "metadata": {},
   "outputs": [],
   "source": [
    "# Extra os registros com outliers na coluna desconto\n",
    "df_outliers_desconto = df[(df.desconto <= limite_inferior) | (df.desconto >= limite_superior)]\n",
    "df_outliers_desconto.head()"
   ]
  },
  {
   "cell_type": "code",
   "execution_count": null,
   "metadata": {},
   "outputs": [],
   "source": [
    "# Filtra o dataframe removendo os registros com outliers na coluna desconto\n",
    "df = df[(df.desconto > limite_inferior) & (df.desconto < limite_superior)]"
   ]
  },
  {
   "cell_type": "code",
   "execution_count": null,
   "metadata": {},
   "outputs": [],
   "source": [
    "print(f'Número de linhas antes de filtrar valores extremos (outliers): {len(df)}')"
   ]
  },
  {
   "cell_type": "code",
   "execution_count": null,
   "metadata": {},
   "outputs": [],
   "source": [
    "registros = np.array([True] * len(df))"
   ]
  },
  {
   "cell_type": "code",
   "execution_count": null,
   "metadata": {},
   "outputs": [],
   "source": [
    "type(registros)"
   ]
  },
  {
   "cell_type": "code",
   "execution_count": null,
   "metadata": {},
   "outputs": [],
   "source": [
    "np.count_nonzero(registros == True)"
   ]
  },
  {
   "cell_type": "code",
   "execution_count": null,
   "metadata": {},
   "outputs": [],
   "source": [
    "np.count_nonzero(registros == False)"
   ]
  },
  {
   "cell_type": "code",
   "execution_count": null,
   "metadata": {},
   "outputs": [],
   "source": [
    "# Variáveis numéricas (sem a variável desconto)\n",
    "nums2 = ['numero_chamadas_cliente', \n",
    "         'avaliacao_cliente', \n",
    "         'compras_anteriores', \n",
    "         'custo_produto', \n",
    "         'peso_gramas']"
   ]
  },
  {
   "cell_type": "code",
   "execution_count": null,
   "metadata": {
    "colab": {
     "base_uri": "https://localhost:8080/"
    },
    "executionInfo": {
     "elapsed": 391,
     "status": "ok",
     "timestamp": 1649601507694,
     "user": {
      "displayName": "Muhammad Hamzah",
      "userId": "06012328832276120437"
     },
     "user_tz": -420
    },
    "id": "13b607c6-a356-4363-9e7b-90ee8afded0b",
    "outputId": "beead67b-10ef-4600-bac7-333af80fb4f3"
   },
   "outputs": [],
   "source": [
    "# Loop por cada variável numérica\n",
    "for col in nums2:\n",
    "    \n",
    "    # Calcula o z-score absoluto\n",
    "    zscore = abs(stats.zscore(df[col])) \n",
    "    \n",
    "    # Mantém valores com menos de 3 z-score absoluto\n",
    "    registros = (zscore < 3) & registros"
   ]
  },
  {
   "cell_type": "code",
   "execution_count": null,
   "metadata": {},
   "outputs": [],
   "source": [
    "np.count_nonzero(registros == True)"
   ]
  },
  {
   "cell_type": "code",
   "execution_count": null,
   "metadata": {},
   "outputs": [],
   "source": [
    "np.count_nonzero(registros == False)"
   ]
  },
  {
   "cell_type": "code",
   "execution_count": null,
   "metadata": {},
   "outputs": [],
   "source": [
    "# Removemos registros com o z-score abaixo de 3 nas colunas numéricas\n",
    "df = df[registros] "
   ]
  },
  {
   "cell_type": "code",
   "execution_count": null,
   "metadata": {},
   "outputs": [],
   "source": [
    "print(f'Número de linhas após filtrar valores extremos (outliers): {len(df)}')"
   ]
  },
  {
   "cell_type": "markdown",
   "metadata": {
    "id": "564a0063-8a1e-484e-9185-b85840f6feec"
   },
   "source": [
    "### Tratamento de Desbalanceamento de Classe\n",
    "\n",
    "Deve ser feito nos dados de treino, após o pré-processamento dos dados."
   ]
  },
  {
   "cell_type": "code",
   "execution_count": null,
   "metadata": {},
   "outputs": [],
   "source": [
    "df.columns"
   ]
  },
  {
   "cell_type": "code",
   "execution_count": null,
   "metadata": {
    "colab": {
     "base_uri": "https://localhost:8080/"
    },
    "executionInfo": {
     "elapsed": 9,
     "status": "ok",
     "timestamp": 1649600790202,
     "user": {
      "displayName": "Gesta Putra Gemilang",
      "userId": "17182360166228029414"
     },
     "user_tz": -420
    },
    "id": "b91b405b-e1b0-42c0-8b9d-d110d5e47d3a",
    "outputId": "a44d54ec-f245-4f22-b37a-15e99f88f3fe"
   },
   "outputs": [],
   "source": [
    "df['entregue_no_prazo'].value_counts()"
   ]
  },
  {
   "cell_type": "markdown",
   "metadata": {
    "id": "4de40fb6-9c8e-4704-b328-9c2d0d09d099"
   },
   "source": [
    "## Engenharia de Atributos"
   ]
  },
  {
   "cell_type": "markdown",
   "metadata": {
    "id": "40d1fc91-742b-411e-a154-6f52a15df395"
   },
   "source": [
    "## Feature Selection \n",
    "\n",
    "Aqui tomamos as decisões sobre quais variáveis serão usadas na Engenharia de Atributos."
   ]
  },
  {
   "cell_type": "code",
   "execution_count": null,
   "metadata": {},
   "outputs": [],
   "source": [
    "df.columns"
   ]
  },
  {
   "cell_type": "code",
   "execution_count": null,
   "metadata": {},
   "outputs": [],
   "source": [
    "df.sample(5)"
   ]
  },
  {
   "cell_type": "code",
   "execution_count": null,
   "metadata": {
    "colab": {
     "base_uri": "https://localhost:8080/",
     "height": 364
    },
    "executionInfo": {
     "elapsed": 344,
     "status": "ok",
     "timestamp": 1649600810502,
     "user": {
      "displayName": "Gesta Putra Gemilang",
      "userId": "17182360166228029414"
     },
     "user_tz": -420
    },
    "id": "73c655bf-0c0b-4931-a6a4-c7f4ed89982d",
    "outputId": "3968bac7-f785-4f76-e238-6f8011f6e95a"
   },
   "outputs": [],
   "source": [
    "# Correlação\n",
    "df.corr()"
   ]
  },
  {
   "cell_type": "code",
   "execution_count": null,
   "metadata": {
    "colab": {
     "base_uri": "https://localhost:8080/",
     "height": 583
    },
    "executionInfo": {
     "elapsed": 1942,
     "status": "ok",
     "timestamp": 1649602189041,
     "user": {
      "displayName": "Muhammad Hamzah",
      "userId": "06012328832276120437"
     },
     "user_tz": -420
    },
    "id": "M3_XZxy888Q7",
    "outputId": "77acb944-4aad-4720-cc80-cc71f2ca2718"
   },
   "outputs": [],
   "source": [
    "# Mapa de correlação \n",
    "plt.figure(figsize = (10, 8))\n",
    "sns.heatmap(df.corr(), cmap = 'Purples', annot = True, fmt = '.2f');"
   ]
  },
  {
   "cell_type": "markdown",
   "metadata": {
    "id": "19ee8612-bec0-43b1-94d8-de8892788658"
   },
   "source": [
    "**Decisão**: Na figura acima, os recursos que ultrapassaram o limite (+/- 0,05) na correlação com o recurso de destino (entregue_no_prazo) serão escolhidos para serem processados na Engenharia de Atributos, nesse caso: numero_chamadas_cliente, custo_produto, compras_anteriores, desconto e peso_gramas.\n",
    "\n",
    "A variável avaliacao_cliente não parece relevante e não será processada na Engenharia de Atributos. A variável ID será descartada, pois não representa informação útil."
   ]
  },
  {
   "cell_type": "code",
   "execution_count": null,
   "metadata": {
    "colab": {
     "base_uri": "https://localhost:8080/",
     "height": 357
    },
    "executionInfo": {
     "elapsed": 1529,
     "status": "ok",
     "timestamp": 1649603246718,
     "user": {
      "displayName": "Gesta Putra Gemilang",
      "userId": "17182360166228029414"
     },
     "user_tz": -420
    },
    "id": "2IP6FmC6A6u5",
    "outputId": "0d07705b-ceec-4eb0-d86b-f917ff6fa41c"
   },
   "outputs": [],
   "source": [
    "# Gráfico de barras\n",
    "df_sample = df.sample(1000, random_state = 42)\n",
    "plt.figure(figsize = (20,8))\n",
    "for i in range(0, len(cats)):\n",
    "    plt.subplot(2, 3, i+1)\n",
    "    sns.countplot(x = df_sample[cats[i]], color = 'blue', orient = 'v')\n",
    "    plt.tight_layout()"
   ]
  },
  {
   "cell_type": "markdown",
   "metadata": {
    "id": "Lf7_I-g4Ckxx"
   },
   "source": [
    "**Decisão**: Na figura acima pode-se ver que todas as variáveis categóricas têm uma diferença bastante grande em termos de contagens das classes, exceto a variável de Gênero. Sendo assim, não vamos considerar a variável genero na Engenharia de Atributos."
   ]
  },
  {
   "cell_type": "markdown",
   "metadata": {},
   "source": [
    "**Obs: Como as tarefas a seguir são complexas, demonstraremos apenas como algumas colunas. Fique à vontade para refazer a Engenharia de Atributos usando todas as colunas selecionadas conforme regras definidas acima.**"
   ]
  },
  {
   "cell_type": "markdown",
   "metadata": {
    "id": "63d7030e-f55f-4aad-9245-e0ce3609c674"
   },
   "source": [
    "## Feature Extraction \n",
    "\n",
    "Aqui fazemos a extração de novas variáveis a partir da informação contida em outras variáveis."
   ]
  },
  {
   "cell_type": "code",
   "execution_count": null,
   "metadata": {},
   "outputs": [],
   "source": [
    "df.columns"
   ]
  },
  {
   "cell_type": "code",
   "execution_count": null,
   "metadata": {},
   "outputs": [],
   "source": [
    "df.head()"
   ]
  },
  {
   "cell_type": "code",
   "execution_count": null,
   "metadata": {},
   "outputs": [],
   "source": [
    "# Cria uma cópia do dataframe\n",
    "df_eng = df.copy()"
   ]
  },
  {
   "cell_type": "code",
   "execution_count": null,
   "metadata": {},
   "outputs": [],
   "source": [
    "df_eng.shape"
   ]
  },
  {
   "cell_type": "code",
   "execution_count": null,
   "metadata": {},
   "outputs": [],
   "source": [
    "df_eng.dtypes"
   ]
  },
  {
   "cell_type": "markdown",
   "metadata": {},
   "source": [
    "### 1- Performance de Envio do Produto Por Prioridade do Produto\n",
    "\n",
    "Todo atraso no envio dos produtos é igual, ou seja, tem a mesma proporção? A prioridade de envio dos produtos gera mais ou menos atrasos?\n",
    "\n",
    "Criaremos uma nova variável que representa a performance do envio do produto com base na seguinte regra de negócio:\n",
    "\n",
    "- Se a prioridade do produto era alta e houve atraso no envio, o atraso é crítico.\n",
    "- Se a prioridade do produto era média e houve atraso no envio, o atraso é problemático.\n",
    "- Se a prioridade do produto era baixa e houve atraso no envio, o atraso é tolerável.\n",
    "- Outra opção significa que o envio foi feito no prazo e não apresenta problema."
   ]
  },
  {
   "cell_type": "code",
   "execution_count": null,
   "metadata": {},
   "outputs": [],
   "source": [
    "df_eng.prioridade_produto.value_counts()"
   ]
  },
  {
   "cell_type": "code",
   "execution_count": null,
   "metadata": {},
   "outputs": [],
   "source": [
    "# Criamos a variável e preenchemos com nan\n",
    "df_eng['performance_prioridade_envio'] = np.nan"
   ]
  },
  {
   "cell_type": "code",
   "execution_count": null,
   "metadata": {},
   "outputs": [],
   "source": [
    "# ATENÇÃO!!!! Apenas para compreender o conceito!!!\n",
    "df_eng['performance_prioridade_envio'] = np.where(\n",
    "    (df_eng['prioridade_produto'] == 'alta') & (df_eng['entregue_no_prazo'] == 0), \"Ruim\", \"Excelente\")"
   ]
  },
  {
   "cell_type": "code",
   "execution_count": null,
   "metadata": {},
   "outputs": [],
   "source": [
    "df_eng['performance_prioridade_envio'].value_counts()"
   ]
  },
  {
   "cell_type": "code",
   "execution_count": null,
   "metadata": {},
   "outputs": [],
   "source": [
    "# Limpamos todos os valores da variável\n",
    "df_eng['performance_prioridade_envio'] = np.nan"
   ]
  },
  {
   "cell_type": "code",
   "execution_count": null,
   "metadata": {},
   "outputs": [],
   "source": [
    "# Agora sim a solução!!!\n",
    "df_eng['performance_prioridade_envio'] = np.where(\n",
    "        (df_eng['prioridade_produto'] == 'alta') & (df_eng['entregue_no_prazo'] == 0), \"Atraso Crítico\", \n",
    "    np.where(\n",
    "        (df_eng['prioridade_produto'] == 'media') & (df_eng['entregue_no_prazo'] == 0), \"Atraso Problemático\",\n",
    "    np.where(\n",
    "        (df_eng['prioridade_produto'] == 'baixa') & (df_eng['entregue_no_prazo'] == 0), \"Atraso Tolerável\", \n",
    "    \"Não Houve Atraso\")))"
   ]
  },
  {
   "cell_type": "code",
   "execution_count": null,
   "metadata": {},
   "outputs": [],
   "source": [
    "df_eng['performance_prioridade_envio'].value_counts()"
   ]
  },
  {
   "cell_type": "code",
   "execution_count": null,
   "metadata": {
    "id": "19e3945b-abab-4fb5-bb82-48cf9845cbd2"
   },
   "outputs": [],
   "source": [
    "df_eng.sample(5)"
   ]
  },
  {
   "cell_type": "code",
   "execution_count": null,
   "metadata": {},
   "outputs": [],
   "source": [
    "# Agrupamos os dados para análise\n",
    "df_report1 = df_eng.groupby(['performance_prioridade_envio', \n",
    "                             'entregue_no_prazo']).agg({'prioridade_produto': ['count']}).reset_index()\n",
    "df_report1.head()"
   ]
  },
  {
   "cell_type": "code",
   "execution_count": null,
   "metadata": {},
   "outputs": [],
   "source": [
    "# Ajustamos os nomes das colunas\n",
    "df_report1.columns = ['performance_prioridade_envio', 'entregue_no_prazo', 'contagem']\n",
    "df_report1.head()"
   ]
  },
  {
   "cell_type": "code",
   "execution_count": null,
   "metadata": {},
   "outputs": [],
   "source": [
    "# Pivot\n",
    "df_report1 = pd.pivot_table(df_report1,\n",
    "                             index = 'performance_prioridade_envio',\n",
    "                             columns = 'entregue_no_prazo',\n",
    "                             values = 'contagem').reset_index()\n",
    "df_report1.head()"
   ]
  },
  {
   "cell_type": "code",
   "execution_count": null,
   "metadata": {},
   "outputs": [],
   "source": [
    "# Novo ajuste nos nomes das colunas\n",
    "df_report1.columns = ['Status do Envio', 'Total Atraso', 'Total no Prazo']\n",
    "df_report1.head()"
   ]
  },
  {
   "cell_type": "code",
   "execution_count": null,
   "metadata": {},
   "outputs": [],
   "source": [
    "# Replace do valor nan por zero\n",
    "df_report1['Total Atraso'] = df_report1['Total Atraso'].replace(np.nan, 0)\n",
    "df_report1['Total no Prazo'] = df_report1['Total no Prazo'].replace(np.nan, 0)\n",
    "df_report1.head()"
   ]
  },
  {
   "cell_type": "code",
   "execution_count": null,
   "metadata": {},
   "outputs": [],
   "source": [
    "# Concatena colunas criando uma terceira variável\n",
    "df_report1[\"Total\"] = df_report1[\"Total Atraso\"] + df_report1[\"Total no Prazo\"]\n",
    "df_report1.head()"
   ]
  },
  {
   "cell_type": "code",
   "execution_count": null,
   "metadata": {},
   "outputs": [],
   "source": [
    "# Não precisamos mais das colunas usadas na concatenação. Vamos removê-las.\n",
    "df_report1.drop(df_report1.columns[[1, 2]], axis = 1, inplace = True)\n",
    "df_report1.head()"
   ]
  },
  {
   "cell_type": "code",
   "execution_count": null,
   "metadata": {
    "colab": {
     "base_uri": "https://localhost:8080/",
     "height": 569
    },
    "executionInfo": {
     "elapsed": 14,
     "status": "ok",
     "timestamp": 1649555836724,
     "user": {
      "displayName": "Fajar Ariev",
      "userId": "18314973382710209713"
     },
     "user_tz": -420
    },
    "id": "DxrsPztLHnlY",
    "outputId": "18c69a2d-af48-4610-fb92-c2dc47df3589"
   },
   "outputs": [],
   "source": [
    "# Plot\n",
    "df_report1.set_index(\"Status do Envio\").plot(kind = 'bar', \n",
    "                title = 'Total de Envios dos Produtos Por Status',\n",
    "                ylabel = 'Total', \n",
    "                xlabel = '\\nStatus do Envio',\n",
    "                colormap = 'jet',\n",
    "                figsize=(12,8))\n",
    "plt.xticks(rotation = 0)\n",
    "plt.show()"
   ]
  },
  {
   "cell_type": "markdown",
   "metadata": {},
   "source": [
    "### 2- Performance de Envio do Produto Por Prioridade de Envio e Modo de Envio\n",
    "\n",
    "O modo de envio dos produtos associado à proridade de envio dos produtos, tem impacto no atraso dos produtos?\n",
    "\n",
    "Criaremos uma nova variável que representa a performance do envio do produto com base na seguinte regra de negócio:\n",
    "\n",
    "- Se a prioridade do produto era alta, o modo de envio era Navio e houve atraso no envio, o atraso é crítico por Navio.\n",
    "- Se a prioridade do produto era média, o modo de envio era Navio e houve atraso no envio, o atraso é problemático por Navio.\n",
    "- Se a prioridade do produto era baixa, o modo de envio era Navio e houve atraso no envio, o atraso é tolerável por Navio.\n",
    "- Se a prioridade do produto era alta, o modo de envio era Aviao e houve atraso no envio, o atraso é crítico por Aviao.\n",
    "- Se a prioridade do produto era média, o modo de envio era Aviao e houve atraso no envio, o atraso é problemático por Aviao.\n",
    "- Se a prioridade do produto era baixa, o modo de envio era Aviao e houve atraso no envio, o atraso é tolerável por Aviao.\n",
    "- Se a prioridade do produto era alta, o modo de envio era Caminhao e houve atraso no envio, o atraso é crítico por Caminhao.\n",
    "- Se a prioridade do produto era média, o modo de envio era Caminhao e houve atraso no envio, o atraso é problemático por Caminhao.\n",
    "- Se a prioridade do produto era baixa, o modo de envio era Caminhao e houve atraso no envio, o atraso é tolerável por Caminhao.\n",
    "- Outra opção significa que o envio foi feito no prazo e não apresenta problema."
   ]
  },
  {
   "cell_type": "code",
   "execution_count": null,
   "metadata": {},
   "outputs": [],
   "source": [
    "df_eng.columns"
   ]
  },
  {
   "cell_type": "code",
   "execution_count": null,
   "metadata": {},
   "outputs": [],
   "source": [
    "df_eng.modo_envio.value_counts()"
   ]
  },
  {
   "cell_type": "code",
   "execution_count": null,
   "metadata": {},
   "outputs": [],
   "source": [
    "# Solução\n",
    "df_eng['performance_modo_envio'] = np.where(\n",
    "        (df_eng['prioridade_produto'] == 'alta') & (df_eng['modo_envio'] == 'Navio') & (df_eng['entregue_no_prazo'] == 0), \"Atraso Crítico na Entrega Por Navio\", \n",
    "    np.where(\n",
    "        (df_eng['prioridade_produto'] == 'media') & (df_eng['modo_envio'] == 'Navio') & (df_eng['entregue_no_prazo'] == 0), \"Atraso Problemático na Entrega Por Navio\",\n",
    "    np.where(\n",
    "        (df_eng['prioridade_produto'] == 'baixa') & (df_eng['modo_envio'] == 'Navio') & (df_eng['entregue_no_prazo'] == 0), \"Atraso Tolerável na Entrega Por Navio\", \n",
    "    np.where(\n",
    "        (df_eng['prioridade_produto'] == 'alta') & (df_eng['modo_envio'] == 'Aviao') & (df_eng['entregue_no_prazo'] == 0), \"Atraso Crítico na Entrega Por Aviao\", \n",
    "    np.where(\n",
    "        (df_eng['prioridade_produto'] == 'media') & (df_eng['modo_envio'] == 'Aviao') & (df_eng['entregue_no_prazo'] == 0), \"Atraso Problemático na Entrega Por Aviao\",\n",
    "    np.where(\n",
    "        (df_eng['prioridade_produto'] == 'baixa') & (df_eng['modo_envio'] == 'Aviao') & (df_eng['entregue_no_prazo'] == 0), \"Atraso Tolerável na Entrega Por Aviao\", \n",
    "    np.where(\n",
    "        (df_eng['prioridade_produto'] == 'alta') & (df_eng['modo_envio'] == 'Caminhao') & (df_eng['entregue_no_prazo'] == 0), \"Atraso Crítico na Entrega Por Caminhao\", \n",
    "    np.where(\n",
    "        (df_eng['prioridade_produto'] == 'media') & (df_eng['modo_envio'] == 'Caminhao') & (df_eng['entregue_no_prazo'] == 0), \"Atraso Problemático na Entrega Por Caminhao\",\n",
    "    np.where(\n",
    "        (df_eng['prioridade_produto'] == 'baixa') & (df_eng['modo_envio'] == 'Caminhao') & (df_eng['entregue_no_prazo'] == 0), \"Atraso Tolerável na Entrega Por Caminhao\", \n",
    "    \"Não Houve Atraso\")))))))))"
   ]
  },
  {
   "cell_type": "code",
   "execution_count": null,
   "metadata": {},
   "outputs": [],
   "source": [
    "df_eng.sample(5)"
   ]
  },
  {
   "cell_type": "code",
   "execution_count": null,
   "metadata": {},
   "outputs": [],
   "source": [
    "df_eng.performance_modo_envio.value_counts()"
   ]
  },
  {
   "cell_type": "code",
   "execution_count": null,
   "metadata": {},
   "outputs": [],
   "source": [
    "# Agrupamos os dados para análise\n",
    "df_report2 = df_eng.groupby(['performance_modo_envio', \n",
    "                             'entregue_no_prazo']).agg({'prioridade_produto': ['count']}).reset_index()\n",
    "df_report2.head(10)"
   ]
  },
  {
   "cell_type": "code",
   "execution_count": null,
   "metadata": {},
   "outputs": [],
   "source": [
    "df_report2.columns = ['performance_modo_envio', 'entregue_no_prazo', 'contagem']\n",
    "df_report2.head(10)"
   ]
  },
  {
   "cell_type": "code",
   "execution_count": null,
   "metadata": {},
   "outputs": [],
   "source": [
    "# Pivot\n",
    "df_report2 = pd.pivot_table(df_report2,\n",
    "                            index = 'performance_modo_envio',\n",
    "                            columns = 'entregue_no_prazo',\n",
    "                            values = 'contagem').reset_index()\n",
    "df_report2.head(10)"
   ]
  },
  {
   "cell_type": "code",
   "execution_count": null,
   "metadata": {},
   "outputs": [],
   "source": [
    "df_report2.columns = ['Status do Envio', 'Total Atraso', 'Total no Prazo']\n",
    "df_report2.head(10)"
   ]
  },
  {
   "cell_type": "code",
   "execution_count": null,
   "metadata": {},
   "outputs": [],
   "source": [
    "# Replace do valor nan por zero\n",
    "df_report2['Total Atraso'] = df_report2['Total Atraso'].replace(np.nan, 0)\n",
    "df_report2['Total no Prazo'] = df_report2['Total no Prazo'].replace(np.nan, 0)\n",
    "df_report2.head(10)"
   ]
  },
  {
   "cell_type": "code",
   "execution_count": null,
   "metadata": {},
   "outputs": [],
   "source": [
    "# Concatena colunas criando uma terceira variável\n",
    "df_report2[\"Total\"] = df_report2[\"Total Atraso\"] + df_report2[\"Total no Prazo\"]\n",
    "df_report2.head(10)"
   ]
  },
  {
   "cell_type": "code",
   "execution_count": null,
   "metadata": {},
   "outputs": [],
   "source": [
    "# Não precisamos mais dessas colunas. Vamos removê-las.\n",
    "df_report2.drop(df_report2.columns[[1, 2]], axis = 1, inplace = True)\n",
    "df_report2.head(10)"
   ]
  },
  {
   "cell_type": "code",
   "execution_count": null,
   "metadata": {},
   "outputs": [],
   "source": [
    "# Plot\n",
    "df_report2.set_index(\"Status do Envio\").plot(kind = 'bar', \n",
    "                title = 'Total de Envios dos Produtos Por Status',\n",
    "                ylabel = 'Total', \n",
    "                xlabel = '\\nStatus do Envio',\n",
    "                colormap = 'viridis',\n",
    "                figsize = (20,8))\n",
    "plt.xticks(rotation = 80)\n",
    "plt.show()"
   ]
  },
  {
   "cell_type": "markdown",
   "metadata": {},
   "source": [
    "### 3- Performance de Envio dos Produtos Considerando os Descontos\n",
    "\n",
    "Há diferença na performance de envio dos produtos quando o produto recebe algum tipo de desconto?\n",
    "\n",
    "Criaremos duas novas variáveis com base na seguinte regra de negócio:\n",
    "\n",
    "**Variável 1 - faixa_desconto**\n",
    "\n",
    "- Desconto acima ou igual à média\n",
    "- Desconto abaixo da média\n",
    "\n",
    "**Variável 2 - performance_faixa_desconto**\n",
    "\n",
    "- Se a faixa de desconto foi acima ou igual à média e houve atraso na entrega = \"Atraso na Entrega com Desconto Acima da Média\"\n",
    "\n",
    "- Se a faixa de desconto foi acima ou igual à e não houve atraso na entrega = \"Entrega no Prazo com Desconto Acima da Média\"\n",
    "\n",
    "- Se a faixa de desconto foi abaixo da média e houve atraso na entrega = \"Atraso na Entrega com Desconto Abaixo da Média\"\n",
    "\n",
    "- Se a faixa de desconto foi abaixo da média e não houve atraso na entrega = \"Entrega no Prazo com Desconto Abaixo da Média\""
   ]
  },
  {
   "cell_type": "code",
   "execution_count": null,
   "metadata": {},
   "outputs": [],
   "source": [
    "df_eng.sample(5)"
   ]
  },
  {
   "cell_type": "code",
   "execution_count": null,
   "metadata": {},
   "outputs": [],
   "source": [
    "df_eng.columns"
   ]
  },
  {
   "cell_type": "code",
   "execution_count": null,
   "metadata": {},
   "outputs": [],
   "source": [
    "df_eng.desconto.describe()"
   ]
  },
  {
   "cell_type": "code",
   "execution_count": null,
   "metadata": {},
   "outputs": [],
   "source": [
    "# Variável 1\n",
    "df_eng['faixa_desconto'] = np.where(df_eng.desconto >= 12, \"Desconto Acima da Media\", \"Desconto Abaixo da Media\") "
   ]
  },
  {
   "cell_type": "code",
   "execution_count": null,
   "metadata": {},
   "outputs": [],
   "source": [
    "df_eng['faixa_desconto'].value_counts()"
   ]
  },
  {
   "cell_type": "code",
   "execution_count": null,
   "metadata": {},
   "outputs": [],
   "source": [
    "df_eng.sample(5)"
   ]
  },
  {
   "cell_type": "code",
   "execution_count": null,
   "metadata": {},
   "outputs": [],
   "source": [
    "# Variável 2\n",
    "df_eng['performance_faixa_desconto'] = np.where(\n",
    "        (df_eng['faixa_desconto'] == 'Desconto Acima da Media') & (df_eng['entregue_no_prazo'] == 0), \"Atraso na Entrega com Desconto Acima da Media\", \n",
    "    np.where(\n",
    "        (df_eng['faixa_desconto'] == 'Desconto Abaixo da Media') & (df_eng['entregue_no_prazo'] == 0), \"Atraso na Entrega com Desconto Abaixo da Media\",\n",
    "    np.where(\n",
    "        (df_eng['faixa_desconto'] == 'Desconto Acima da Media') & (df_eng['entregue_no_prazo'] == 1), \"Entrega no Prazo com Desconto Acima da Media\",\n",
    "    np.where(\n",
    "        (df_eng['faixa_desconto'] == 'Desconto Abaixo da Media') & (df_eng['entregue_no_prazo'] == 1), \"Entrega no Prazo com Desconto Abaixo da Media\",\n",
    "   \"NA\"))))"
   ]
  },
  {
   "cell_type": "code",
   "execution_count": null,
   "metadata": {},
   "outputs": [],
   "source": [
    "df_eng.sample(5)"
   ]
  },
  {
   "cell_type": "code",
   "execution_count": null,
   "metadata": {},
   "outputs": [],
   "source": [
    "df_eng['performance_faixa_desconto'].value_counts()"
   ]
  },
  {
   "cell_type": "code",
   "execution_count": null,
   "metadata": {},
   "outputs": [],
   "source": [
    "# Agrupamos os dados para análise\n",
    "df_report3 = df_eng.groupby(['performance_faixa_desconto', \n",
    "                             'entregue_no_prazo']).agg({'ID': ['count']}).reset_index()\n",
    "df_report3.head()"
   ]
  },
  {
   "cell_type": "code",
   "execution_count": null,
   "metadata": {},
   "outputs": [],
   "source": [
    "df_report3.columns = ['performance_faixa_desconto', 'entregue_no_prazo', 'contagem']\n",
    "df_report3.head()"
   ]
  },
  {
   "cell_type": "code",
   "execution_count": null,
   "metadata": {},
   "outputs": [],
   "source": [
    "# Pivot\n",
    "df_report3 = pd.pivot_table(df_report3,\n",
    "                             index = 'performance_faixa_desconto',\n",
    "                             columns = 'entregue_no_prazo',\n",
    "                             values = 'contagem').reset_index()\n",
    "df_report3.head()"
   ]
  },
  {
   "cell_type": "code",
   "execution_count": null,
   "metadata": {},
   "outputs": [],
   "source": [
    "df_report3.columns = ['Status do Envio', 'Total Atraso', 'Total no Prazo']\n",
    "df_report3.head()"
   ]
  },
  {
   "cell_type": "code",
   "execution_count": null,
   "metadata": {},
   "outputs": [],
   "source": [
    "# Replace do valor nan por zero\n",
    "df_report3['Total Atraso'] = df_report3['Total Atraso'].replace(np.nan, 0)\n",
    "df_report3['Total no Prazo'] = df_report3['Total no Prazo'].replace(np.nan, 0)\n",
    "df_report3.head()"
   ]
  },
  {
   "cell_type": "code",
   "execution_count": null,
   "metadata": {},
   "outputs": [],
   "source": [
    "# Concatena colunas criando uma terceira variável\n",
    "df_report3[\"Total\"] = df_report3[\"Total Atraso\"] + df_report3[\"Total no Prazo\"]\n",
    "df_report3.head()"
   ]
  },
  {
   "cell_type": "code",
   "execution_count": null,
   "metadata": {},
   "outputs": [],
   "source": [
    "# Não precisamos mais dessas colunas. Vamos removê-las.\n",
    "df_report3.drop(df_report3.columns[[1, 2]], axis = 1, inplace = True)\n",
    "df_report3.head()"
   ]
  },
  {
   "cell_type": "code",
   "execution_count": null,
   "metadata": {},
   "outputs": [],
   "source": [
    "# Plot\n",
    "df_report3.set_index(\"Status do Envio\").plot(kind = 'bar', \n",
    "                title = 'Total de Envios dos Produtos Por Status',\n",
    "                ylabel = 'Total', \n",
    "                xlabel = '\\nStatus do Envio',\n",
    "                colormap = 'plasma',\n",
    "                figsize = (20,8))\n",
    "plt.xticks(rotation = 0)\n",
    "plt.show()"
   ]
  },
  {
   "cell_type": "code",
   "execution_count": null,
   "metadata": {},
   "outputs": [],
   "source": [
    "df_eng.sample(10)"
   ]
  },
  {
   "cell_type": "code",
   "execution_count": null,
   "metadata": {},
   "outputs": [],
   "source": [
    "# Salva o dataframe\n",
    "df_eng.to_csv('dados/df_eng.csv', sep = ',', encoding = 'utf-8')"
   ]
  },
  {
   "cell_type": "markdown",
   "metadata": {
    "id": "VmKPATOgP6BI"
   },
   "source": [
    "# Fim"
   ]
  }
 ],
 "metadata": {
  "colab": {
   "collapsed_sections": [],
   "name": "Stage 2 Final Project - W3.Solutions().ipynb",
   "provenance": []
  },
  "kernelspec": {
   "display_name": "Python 3",
   "language": "python",
   "name": "python3"
  },
  "language_info": {
   "codemirror_mode": {
    "name": "ipython",
    "version": 3
   },
   "file_extension": ".py",
   "mimetype": "text/x-python",
   "name": "python",
   "nbconvert_exporter": "python",
   "pygments_lexer": "ipython3",
   "version": "3.7.6"
  }
 },
 "nbformat": 4,
 "nbformat_minor": 5
}
