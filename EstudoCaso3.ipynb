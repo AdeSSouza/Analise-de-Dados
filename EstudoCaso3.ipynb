{
 "cells": [
  {
   "cell_type": "markdown",
   "metadata": {
    "id": "ZmUw6qNCSHuG"
   },
   "source": [
    "# <font color='blue'>Data Science Academy</font>\n",
    "# <font color='blue'>Big Data Real-Time Analytics com Python e Spark</font>\n",
    "\n",
    "## <font color='blue'>Estudo de Caso 3</font>\n",
    "\n",
    "## <font color='blue'>Análise Exploratória e Data Wrangling Para E-Commerce Analytics</font>"
   ]
  },
  {
   "cell_type": "markdown",
   "metadata": {},
   "source": [
    "Obs: Estaremos trabalhando em um grande projeto de Ciência de Dados distribuído em 3 capítulos:\n",
    "\n",
    "- **Análise Exploratória de Dados**\n",
    "    - **EDA Parte 1**\n",
    "    - **EDA Parte 2**\n",
    "- Engenharia de Atributos\n",
    "- Pré-Processamento de Dados"
   ]
  },
  {
   "cell_type": "code",
   "execution_count": null,
   "metadata": {},
   "outputs": [],
   "source": [
    "# Versão da Linguagem Python\n",
    "from platform import python_version\n",
    "print('Versão da Linguagem Python Usada Neste Jupyter Notebook:', python_version())"
   ]
  },
  {
   "cell_type": "code",
   "execution_count": null,
   "metadata": {},
   "outputs": [],
   "source": [
    "# Para atualizar um pacote, execute o comando abaixo no terminal ou prompt de comando:\n",
    "# pip install -U nome_pacote\n",
    "\n",
    "# Para instalar a versão exata de um pacote, execute o comando abaixo no terminal ou prompt de comando:\n",
    "#!pip install nome_pacote==versão_desejada\n",
    "\n",
    "# Depois de instalar ou atualizar o pacote, reinicie o jupyter notebook.\n",
    "\n",
    "# Instala o pacote watermark. \n",
    "# Esse pacote é usado para gravar as versões de outros pacotes usados neste jupyter notebook.\n",
    "#!pip install -q -U watermark"
   ]
  },
  {
   "cell_type": "code",
   "execution_count": null,
   "metadata": {
    "id": "4GyxY9ssALkw"
   },
   "outputs": [],
   "source": [
    "# Imports\n",
    "import numpy as np\n",
    "import pandas as pd\n",
    "import matplotlib.pyplot as plt\n",
    "import seaborn as sns\n",
    "import warnings\n",
    "warnings.filterwarnings(\"ignore\")"
   ]
  },
  {
   "cell_type": "code",
   "execution_count": null,
   "metadata": {},
   "outputs": [],
   "source": [
    "# Parâmetros de configuração dos gráficos\n",
    "from matplotlib import rcParams\n",
    "\n",
    "rcParams['figure.figsize'] = 12, 4\n",
    "rcParams['lines.linewidth'] = 3\n",
    "rcParams['xtick.labelsize'] = 'x-large'\n",
    "rcParams['ytick.labelsize'] = 'x-large'"
   ]
  },
  {
   "cell_type": "code",
   "execution_count": null,
   "metadata": {},
   "outputs": [],
   "source": [
    "# Versões dos pacotes usados neste jupyter notebook\n",
    "%reload_ext watermark\n",
    "%watermark -a \"Data Science Academy\" --iversions"
   ]
  },
  {
   "cell_type": "markdown",
   "metadata": {
    "id": "rjxJyGC8SUW_"
   },
   "source": [
    "## Carregando o Dataset"
   ]
  },
  {
   "cell_type": "code",
   "execution_count": null,
   "metadata": {
    "colab": {
     "base_uri": "https://localhost:8080/",
     "height": 488
    },
    "id": "JUw7Bgw7Ar8P",
    "outputId": "39e91e80-1054-4a8b-b171-fd5b12c26c7d"
   },
   "outputs": [],
   "source": [
    "# Carrega os dados\n",
    "df = pd.read_csv('dados/dataset.csv')"
   ]
  },
  {
   "cell_type": "code",
   "execution_count": null,
   "metadata": {},
   "outputs": [],
   "source": [
    "df.shape"
   ]
  },
  {
   "cell_type": "code",
   "execution_count": null,
   "metadata": {
    "colab": {
     "base_uri": "https://localhost:8080/"
    },
    "id": "040bHYiGBBHe",
    "outputId": "eee48c30-6ff3-4306-fbdd-bfef74652dc4"
   },
   "outputs": [],
   "source": [
    "df.info()"
   ]
  },
  {
   "cell_type": "code",
   "execution_count": null,
   "metadata": {},
   "outputs": [],
   "source": [
    "df.head(5)"
   ]
  },
  {
   "cell_type": "code",
   "execution_count": null,
   "metadata": {
    "colab": {
     "base_uri": "https://localhost:8080/",
     "height": 270
    },
    "id": "fzSoY1M6BIsF",
    "outputId": "f23437a5-c57d-42d3-efa7-a91e48721d69"
   },
   "outputs": [],
   "source": [
    "df.sample(5)"
   ]
  },
  {
   "cell_type": "code",
   "execution_count": null,
   "metadata": {},
   "outputs": [],
   "source": [
    "df.tail(5)"
   ]
  },
  {
   "cell_type": "markdown",
   "metadata": {},
   "source": [
    "## EDA - Parte 1"
   ]
  },
  {
   "cell_type": "markdown",
   "metadata": {},
   "source": [
    "### Separação das Variáveis Categóricas e Numéricas"
   ]
  },
  {
   "cell_type": "code",
   "execution_count": null,
   "metadata": {},
   "outputs": [],
   "source": [
    "df.columns"
   ]
  },
  {
   "cell_type": "code",
   "execution_count": null,
   "metadata": {},
   "outputs": [],
   "source": [
    "df.dtypes"
   ]
  },
  {
   "cell_type": "code",
   "execution_count": null,
   "metadata": {
    "id": "eEj5iWMrCPLU"
   },
   "outputs": [],
   "source": [
    "# Lista de colunas categóricas\n",
    "cats = ['corredor_armazem',\n",
    "        'modo_envio', \n",
    "        'prioridade_produto', \n",
    "        'genero']"
   ]
  },
  {
   "cell_type": "code",
   "execution_count": null,
   "metadata": {},
   "outputs": [],
   "source": [
    "# Lista de colunas numéricas\n",
    "nums = ['numero_chamadas_cliente', \n",
    "        'avaliacao_cliente', \n",
    "        'custo_produto', \n",
    "        'compras_anteriores', \n",
    "        'desconto', \n",
    "        'peso_gramas']"
   ]
  },
  {
   "cell_type": "code",
   "execution_count": null,
   "metadata": {},
   "outputs": [],
   "source": [
    "df['entregue_no_prazo'].value_counts()"
   ]
  },
  {
   "cell_type": "code",
   "execution_count": null,
   "metadata": {},
   "outputs": [],
   "source": [
    "target = ['entregue_no_prazo']"
   ]
  },
  {
   "cell_type": "markdown",
   "metadata": {},
   "source": [
    "### Explorando as Variáveis Numéricas"
   ]
  },
  {
   "cell_type": "code",
   "execution_count": null,
   "metadata": {
    "colab": {
     "base_uri": "https://localhost:8080/",
     "height": 300
    },
    "id": "lsJPJHA7C1Ml",
    "outputId": "4478440f-c434-4941-a014-1d3354bde3d0"
   },
   "outputs": [],
   "source": [
    "# Resumo das variáveis numéricas\n",
    "df[nums].describe()"
   ]
  },
  {
   "cell_type": "markdown",
   "metadata": {
    "id": "SXaUkBHSDA5m"
   },
   "source": [
    "Algumas observações:\n",
    "\n",
    "1. As colunas `numero_chamadas_cliente`, `avaliacao_cliente` e `custo_produto` parecem ter uma distribuição bastante simétrica (média e mediana não são muito diferentes).\n",
    "\n",
    "2. As colunas `compras_anteriores` e `desconto` parecem estar inclinadas para a direita (Média maior do que a Mediana).\n",
    "\n",
    "3. A coluna `peso_gramas` parece estar mais inclinada para a esquerda (Média menor do que a Mediana)."
   ]
  },
  {
   "cell_type": "code",
   "execution_count": null,
   "metadata": {},
   "outputs": [],
   "source": [
    "df['custo_produto'].hist()"
   ]
  },
  {
   "cell_type": "code",
   "execution_count": null,
   "metadata": {},
   "outputs": [],
   "source": [
    "df['compras_anteriores'].hist()"
   ]
  },
  {
   "cell_type": "markdown",
   "metadata": {},
   "source": [
    "### Explorando as Variáveis Categóricas"
   ]
  },
  {
   "cell_type": "code",
   "execution_count": null,
   "metadata": {
    "colab": {
     "base_uri": "https://localhost:8080/",
     "height": 175
    },
    "id": "K0TNVByhGkmj",
    "outputId": "7c9b2171-eb5e-4e19-cbb4-2664be6afdfd"
   },
   "outputs": [],
   "source": [
    "# Resumo das variáveis categóricas\n",
    "df[cats].describe()"
   ]
  },
  {
   "cell_type": "markdown",
   "metadata": {
    "id": "tUzIrGb5Gu1A"
   },
   "source": [
    "Algumas observações:\n",
    "\n",
    "* Para a variável corredor_armazem **F** é a classe dominante.\n",
    "* Para a variável de modo de envio **Navio** é a classe dominante.\n",
    "* Para a variável de prioridade do produto **baixa** é a classe dominante.\n",
    "* Para a variável de gênero, **F(Feminino)** é a classe dominante.\n",
    "* Todos os valores únicos para cada categoria estão em torno de **2-5 valores únicos**"
   ]
  },
  {
   "cell_type": "code",
   "execution_count": null,
   "metadata": {
    "colab": {
     "base_uri": "https://localhost:8080/"
    },
    "id": "Kg6HKuM5IlZx",
    "outputId": "ba6d8f5a-c318-4501-d144-a6f6ddb36f59"
   },
   "outputs": [],
   "source": [
    "# Listando o total por categoria de cada variável categórica\n",
    "for col in cats:\n",
    "    print(f'''Total de Registros Por Categoria da Variável {col}:''')\n",
    "    print(df[col].value_counts())\n",
    "    print()"
   ]
  },
  {
   "cell_type": "markdown",
   "metadata": {
    "id": "3S8mup8inZwG"
   },
   "source": [
    "### Análise Univariada - Box Plots"
   ]
  },
  {
   "cell_type": "code",
   "execution_count": null,
   "metadata": {
    "colab": {
     "base_uri": "https://localhost:8080/",
     "height": 297
    },
    "id": "OI0jseJSI3lH",
    "outputId": "000242d3-5aa7-490d-916e-63778e6c9921"
   },
   "outputs": [],
   "source": [
    "features = nums\n",
    "for i in range(0, len(features)):\n",
    "    plt.subplot(1, len(features), i + 1)\n",
    "    sns.boxplot(y = df[features[i]], color = 'magenta', orient = 'v')\n",
    "    plt.tight_layout()"
   ]
  },
  {
   "cell_type": "markdown",
   "metadata": {
    "id": "y1TLfBFznpiI"
   },
   "source": [
    "### Análise Univariada - Dist Plots"
   ]
  },
  {
   "cell_type": "code",
   "execution_count": null,
   "metadata": {
    "colab": {
     "base_uri": "https://localhost:8080/",
     "height": 697
    },
    "id": "KAo4kMiYZkIx",
    "outputId": "cb5f9f76-b9e5-4fec-f009-b24bb53b9ebe"
   },
   "outputs": [],
   "source": [
    "features = nums\n",
    "plt.figure(figsize = (20, 10))\n",
    "for i in range(0, len(nums)):\n",
    "    plt.subplot(3, len(nums)/2, i+1)\n",
    "    sns.histplot(x = df[features[i]], kde = True, color = 'green')\n",
    "    plt.xlabel(features[i])\n",
    "    plt.tight_layout()"
   ]
  },
  {
   "cell_type": "markdown",
   "metadata": {
    "id": "yFiXsWnlnxOT"
   },
   "source": [
    "### Análise Univariada - Violin Plots"
   ]
  },
  {
   "cell_type": "code",
   "execution_count": null,
   "metadata": {
    "colab": {
     "base_uri": "https://localhost:8080/",
     "height": 297
    },
    "id": "h2J1pRRKEIN6",
    "outputId": "8b565499-76d5-433b-c9ec-5e9746f0403a"
   },
   "outputs": [],
   "source": [
    "for i in range(0, len(nums)):\n",
    "    plt.subplot(1, len(nums), i+1)\n",
    "    sns.violinplot(y = df[nums[i]], color = 'yellow', orient = 'v')\n",
    "    plt.tight_layout()"
   ]
  },
  {
   "cell_type": "markdown",
   "metadata": {
    "id": "VG98On7dJQ0J"
   },
   "source": [
    "A partir dos gráficos pode-se observar que:\n",
    "\n",
    "* A coluna `custo_produto` parece estar próxima de uma distribuição normal.\n",
    "\n",
    "* Como suspeitamo, as colunas `compras_anteriores` e `desconto` estão ligeiramente *inclinadas*, o que significa que existe a possibilidade de precisarmos fazer algo com essas colunas mais tarde.\n",
    "\n",
    "* Para a coluna `peso_gramas` há incerteza de distribuição porque é em forma de u.\n",
    "\n",
    "* As colunas `numero_chamadas_cliente` e `avaliacao_cliente` estão distribuídas uniformemente."
   ]
  },
  {
   "cell_type": "markdown",
   "metadata": {
    "id": "0CsxzknioPrX"
   },
   "source": [
    "### Análise Univariada - Count Plot (Categorical)"
   ]
  },
  {
   "cell_type": "code",
   "execution_count": null,
   "metadata": {
    "colab": {
     "base_uri": "https://localhost:8080/",
     "height": 297
    },
    "id": "Htjc1m0NKjIh",
    "outputId": "26d1a322-bd24-4b55-dc77-3eec20ebd3c3"
   },
   "outputs": [],
   "source": [
    "df_sample = df.sample(1000, random_state = 42)\n",
    "for i in range(0, len(cats)):\n",
    "    plt.subplot(2, 3, i+1)\n",
    "    sns.countplot(x = df_sample[cats[i]], color = 'green', orient = 'v')\n",
    "    plt.tight_layout()"
   ]
  },
  {
   "cell_type": "code",
   "execution_count": null,
   "metadata": {},
   "outputs": [],
   "source": [
    "# Count Plot da variável target\n",
    "sns.countplot(data = df, x = df['entregue_no_prazo'], hue = 'entregue_no_prazo')"
   ]
  },
  {
   "cell_type": "markdown",
   "metadata": {},
   "source": [
    "A partir dos gráficos pode-se observar que:\n",
    "\n",
    "* A maioria dos produtos enviados vieram do corredor F.\n",
    "\n",
    "* Modo de envio através de Navio é o mais comum.\n",
    "\n",
    "* Há poucos produtos com prioridade alta de entrega.\n",
    "\n",
    "* A proporção de clientes do sexo Masculino e Feminino é praticamente a mesma.\n",
    "\n",
    "* A coluna `entregue_no_prazo` é binária, então não há necessidade de prestar muita atenção à forma da distribuição.\n"
   ]
  },
  {
   "cell_type": "markdown",
   "metadata": {
    "id": "a2qWEuSIoN_Z"
   },
   "source": [
    "### Análise Bivariada - Mapa de Correlação"
   ]
  },
  {
   "cell_type": "code",
   "execution_count": null,
   "metadata": {
    "colab": {
     "base_uri": "https://localhost:8080/",
     "height": 300
    },
    "id": "u5sKyU1cKr4O",
    "outputId": "aee5b9e7-24fd-4fef-f501-65dbf8f84f50"
   },
   "outputs": [],
   "source": [
    "df[nums].corr()"
   ]
  },
  {
   "cell_type": "code",
   "execution_count": null,
   "metadata": {
    "id": "TNSjoidwLzk2"
   },
   "outputs": [],
   "source": [
    "corr_df = df[nums].corr()"
   ]
  },
  {
   "cell_type": "code",
   "execution_count": null,
   "metadata": {},
   "outputs": [],
   "source": [
    "corr_df"
   ]
  },
  {
   "cell_type": "code",
   "execution_count": null,
   "metadata": {
    "colab": {
     "base_uri": "https://localhost:8080/",
     "height": 630
    },
    "id": "4QUIr_NwL6F1",
    "outputId": "8994a9ed-d807-4727-8c63-5c31b4c9982d"
   },
   "outputs": [],
   "source": [
    "plt.figure(figsize = (8, 8))\n",
    "sns.heatmap(corr_df, cmap = 'Blues', annot = True, fmt = '.2f')"
   ]
  },
  {
   "cell_type": "markdown",
   "metadata": {
    "id": "8UdUd4eJNdzD"
   },
   "source": [
    "A partir do *mapa de correlação* acima, pode-se ver que:\n",
    "\n",
    "* Há uma correlação positiva entre `numero_chamadas_cliente` e `custo_produto`.\n",
    "* Há uma correlação positiva entre `numero_chamadas_cliente` e `compras_anteriores`.\n",
    "* Há uma correlação negativa entre `desconto` e `peso_gramas`.\n",
    "* E há uma correlação fraca entre as demais variáveis.\n",
    "\n",
    "Obs: Não usamos correlação para variáveis categóricas. Nesse caso usamos associação."
   ]
  },
  {
   "cell_type": "markdown",
   "metadata": {
    "id": "V3Spkq-Uo05P"
   },
   "source": [
    "### Análise Bivariada - Pair Plot"
   ]
  },
  {
   "cell_type": "code",
   "execution_count": null,
   "metadata": {
    "colab": {
     "base_uri": "https://localhost:8080/",
     "height": 1000
    },
    "id": "US9zdb4NNaOC",
    "outputId": "a176999b-1c23-492b-af24-708113742600"
   },
   "outputs": [],
   "source": [
    "plt.figure(figsize = (15, 15))\n",
    "sns.pairplot(df[nums], diag_kind = 'kde')"
   ]
  },
  {
   "cell_type": "markdown",
   "metadata": {
    "id": "PvwRSsRWo7tU"
   },
   "source": [
    "### Colunas Categóricas x Variável Target"
   ]
  },
  {
   "cell_type": "code",
   "execution_count": null,
   "metadata": {},
   "outputs": [],
   "source": [
    "df.columns"
   ]
  },
  {
   "cell_type": "code",
   "execution_count": null,
   "metadata": {
    "colab": {
     "base_uri": "https://localhost:8080/",
     "height": 297
    },
    "id": "UHo2xxLrPuyb",
    "outputId": "f835a141-e7d8-44e5-ea1e-9a5ef9b06f21"
   },
   "outputs": [],
   "source": [
    "plt.figure(figsize = (15, 9))\n",
    "features = cats\n",
    "for i in range(0, len(features)):\n",
    "    plt.subplot(2, 2, i+1) \n",
    "    sns.countplot(data = df_sample, x = features[i], hue = 'entregue_no_prazo')\n",
    "    plt.tight_layout()"
   ]
  },
  {
   "cell_type": "markdown",
   "metadata": {
    "id": "IZdqBsrNVelr"
   },
   "source": [
    "Observações:\n",
    "\n",
    "* Envio por navio tende a apresentar atraso na entrega.\n",
    "* Em prioridade_produto as categorias baixa e média tendem a apresentar atrasos na entrega.\n",
    "* Em corredor_armazem produtos do corredor F tendem a apresentar atraso na entrega.\n",
    "* Produtos comprados por mulheres tem um volume ligeiramente menor de entregas feitas no prazo."
   ]
  },
  {
   "cell_type": "markdown",
   "metadata": {
    "id": "2dL4FYK3VmB9"
   },
   "source": [
    "## Conclusão da Parte 1 da EDA:\n",
    "\n",
    "Algumas das coisas que encontramos neste conjunto de dados são:\n",
    "\n",
    "* Os dados parecem válidos e não há defeitos maiores/significativos.\n",
    "\n",
    "* Existem algumas distribuições que são um pouco *assimétricas*, isso deve ser lembrado se usarmos modelos que exijam a suposição de uma distribuição normal.\n",
    "\n",
    "* Não detectamos problemas de multicolinearidade.\n",
    "\n",
    "* Alguns *recursos* parecem completamente não correlacionados.\n",
    "\n",
    "* Dos recursos categóricos, `modo_envio` , `corredor_armazem` e `importancia_produto` parecem úteis para prever a variável target."
   ]
  },
  {
   "cell_type": "markdown",
   "metadata": {
    "id": "rNdd5fr5TZjZ"
   },
   "source": [
    "## EDA - Parte 2"
   ]
  },
  {
   "cell_type": "markdown",
   "metadata": {},
   "source": [
    "### 1- Os atrasos nas entregas estão igualmente distribuídos pelos modos de envio? Há diferenças discrepantes?"
   ]
  },
  {
   "cell_type": "code",
   "execution_count": null,
   "metadata": {},
   "outputs": [],
   "source": [
    "df.columns"
   ]
  },
  {
   "cell_type": "code",
   "execution_count": null,
   "metadata": {},
   "outputs": [],
   "source": [
    "df['modo_envio'].value_counts()"
   ]
  },
  {
   "cell_type": "code",
   "execution_count": null,
   "metadata": {
    "colab": {
     "base_uri": "https://localhost:8080/",
     "height": 237
    },
    "id": "P8kaWzczP1dR",
    "outputId": "0c5d2015-0ac2-49d5-b4dc-b32bb13d3eb0"
   },
   "outputs": [],
   "source": [
    "df_group1 = df.groupby(['entregue_no_prazo', 'modo_envio']).agg({'ID' : 'nunique'}).reset_index()\n",
    "df_group1"
   ]
  },
  {
   "cell_type": "code",
   "execution_count": null,
   "metadata": {
    "colab": {
     "base_uri": "https://localhost:8080/",
     "height": 112
    },
    "id": "AgUcFqFWyAHp",
    "outputId": "b7996700-5420-4519-9c61-13164ed403ab"
   },
   "outputs": [],
   "source": [
    "df_group2 = df.groupby('entregue_no_prazo').agg({'ID' : 'nunique'}).reset_index() \n",
    "df_group2"
   ]
  },
  {
   "cell_type": "code",
   "execution_count": null,
   "metadata": {
    "colab": {
     "base_uri": "https://localhost:8080/",
     "height": 237
    },
    "id": "3SAOfR_qyHVz",
    "outputId": "d45fa671-6b79-4a79-f130-2ad944cbfc06"
   },
   "outputs": [],
   "source": [
    "df_group3 = df_group1.merge(df_group2, on = 'entregue_no_prazo')\n",
    "df_group3"
   ]
  },
  {
   "cell_type": "code",
   "execution_count": null,
   "metadata": {
    "colab": {
     "base_uri": "https://localhost:8080/",
     "height": 143
    },
    "id": "YV-36ZYH0Ov1",
    "outputId": "25a6b166-8bc6-473d-95b6-6dd5f550f516"
   },
   "outputs": [],
   "source": [
    "df_group4 = df.groupby('modo_envio').agg({'ID' : 'nunique'}).reset_index() \n",
    "df_group4"
   ]
  },
  {
   "cell_type": "code",
   "execution_count": null,
   "metadata": {
    "colab": {
     "base_uri": "https://localhost:8080/",
     "height": 237
    },
    "id": "xnPulv3R0pOM",
    "outputId": "c6b77635-65ba-41b7-acfa-1d05d8e5d192"
   },
   "outputs": [],
   "source": [
    "df_group5 = df_group1.merge(df_group4, on = 'modo_envio')\n",
    "df_group5"
   ]
  },
  {
   "cell_type": "code",
   "execution_count": null,
   "metadata": {},
   "outputs": [],
   "source": [
    "df_group5['Percentual(%)'] = df_group5['ID_x'] / df_group5['ID_y'] * 100"
   ]
  },
  {
   "cell_type": "code",
   "execution_count": null,
   "metadata": {
    "colab": {
     "base_uri": "https://localhost:8080/",
     "height": 237
    },
    "id": "EXdapNt906Ej",
    "outputId": "6ef98a3c-70b4-4c88-b941-e8da4423d2cf"
   },
   "outputs": [],
   "source": [
    "df_group5.columns = ['Status de Entrega no Prazo', \n",
    "                     'Modo de Envio', \n",
    "                     'Total Por Categoria', \n",
    "                     'Total Geral', \n",
    "                     'Percentual(%)']\n",
    "df_group5"
   ]
  },
  {
   "cell_type": "code",
   "execution_count": null,
   "metadata": {},
   "outputs": [],
   "source": [
    "df_group5.columns"
   ]
  },
  {
   "cell_type": "code",
   "execution_count": null,
   "metadata": {
    "colab": {
     "base_uri": "https://localhost:8080/",
     "height": 704
    },
    "id": "W5SYLRVYhtE1",
    "outputId": "ec6a361f-40ae-41d5-a54b-faf635b21d08"
   },
   "outputs": [],
   "source": [
    "# Gráfico 1 - Análise em Valores Absolutos\n",
    "\n",
    "# Tamanho da figura\n",
    "plt.figure(figsize = (15,10))\n",
    "\n",
    "# Chart\n",
    "chart = sns.countplot(data = df, \n",
    "                      x = 'modo_envio', \n",
    "                      hue = 'entregue_no_prazo',\n",
    "                      palette = [\"red\",\"green\"])\n",
    "\n",
    "# Estilo e labels\n",
    "sns.set(font_scale = 1.5)\n",
    "sns.set_style('whitegrid')\n",
    "sns.set_palette('prism')\n",
    "chart.set_xlabel(\"\\nModo de Envio\", fontsize = 14)\n",
    "chart.set_ylabel(\"Total\", fontsize = 14)\n",
    "\n",
    "# Legenda\n",
    "plt.legend(loc = 'upper right', \n",
    "           borderpad = 1.5, \n",
    "           labelspacing = 1.5, \n",
    "           fontsize = 12, \n",
    "           title = 'Status:')\n",
    "\n",
    "# Adicionado Título \n",
    "chart.text(x = -0.5, \n",
    "           y = 5200, \n",
    "           s = \"Entregas com Base no Modo de Envio (Absoluto)\",\n",
    "           fontsize = 25, \n",
    "           weight = 'bold', \n",
    "           alpha = .75)\n",
    "\n",
    "# Adicionado Sub-Título\n",
    "chart.text(x = -0.5, \n",
    "           y = 4900,\n",
    "           s = 'Há atrasos em todos os modos de envio, mas usar Navio parece ser o modo que mais gera atrasos.',\n",
    "           fontsize = 16, \n",
    "           alpha = .85);"
   ]
  },
  {
   "cell_type": "code",
   "execution_count": null,
   "metadata": {},
   "outputs": [],
   "source": [
    "df_group5.columns"
   ]
  },
  {
   "cell_type": "code",
   "execution_count": null,
   "metadata": {
    "colab": {
     "base_uri": "https://localhost:8080/",
     "height": 703
    },
    "id": "dFVg0qWn1UK5",
    "outputId": "94a68f12-6872-47f0-d41e-453c2fe1ef6b"
   },
   "outputs": [],
   "source": [
    "# Gráfico 2 - Análise em Valores Percentuais\n",
    "\n",
    "# Tamanho da figura\n",
    "plt.figure(figsize = (15,10))\n",
    "\n",
    "# Chart\n",
    "chart = sns.barplot(x = 'Modo de Envio', \n",
    "                    y = 'Percentual(%)', \n",
    "                    data = df_group5, \n",
    "                    hue = 'Status de Entrega no Prazo',\n",
    "                    palette = [\"red\",\"green\"])\n",
    "\n",
    "# Estilo e labels\n",
    "sns.set(font_scale = 1.5)\n",
    "sns.set_style('whitegrid')\n",
    "sns.set_palette('prism')\n",
    "chart.set_xlabel(\"\\nModo de Envio\", fontsize = 14)\n",
    "chart.set_ylabel(\"Percentual (%)\", fontsize = 14)\n",
    "\n",
    "# Legenda\n",
    "plt.legend(loc = 'upper left', \n",
    "           borderpad = 1.5, \n",
    "           labelspacing = 1.5, \n",
    "           fontsize = 12, \n",
    "           title = 'Status:')\n",
    "\n",
    "# Título\n",
    "chart.text(x = -0.5, \n",
    "           y = 70, \n",
    "           s = \"Entregas com Base no Modo de Envio (Percentual)\",\n",
    "           fontsize = 25, \n",
    "           weight = 'bold', \n",
    "           alpha = .75)\n",
    "\n",
    "# Sub-título\n",
    "chart.text(x = -0.5, \n",
    "           y = 64,\n",
    "           s = 'Todos os modos de envio apresentam uma proporção semelhante de envios dentro do prazo e atrasados, \\napesar dos volumes variados de envios.',\n",
    "           fontsize = 16, \n",
    "           alpha = .85);"
   ]
  },
  {
   "cell_type": "markdown",
   "metadata": {},
   "source": [
    "### 2- Há diferença significativa no atraso das entregas quando o produto tem prioridade baixa ou média?"
   ]
  },
  {
   "cell_type": "code",
   "execution_count": null,
   "metadata": {},
   "outputs": [],
   "source": [
    "df.columns"
   ]
  },
  {
   "cell_type": "code",
   "execution_count": null,
   "metadata": {
    "colab": {
     "base_uri": "https://localhost:8080/",
     "height": 237
    },
    "id": "SrDzS_VJ4UXB",
    "outputId": "5e295872-ff8d-4401-ce26-5aec394dabff"
   },
   "outputs": [],
   "source": [
    "df_group11 = df.groupby(['entregue_no_prazo','prioridade_produto']).agg({'ID' : 'nunique'}).reset_index()\n",
    "df_group11"
   ]
  },
  {
   "cell_type": "code",
   "execution_count": null,
   "metadata": {
    "colab": {
     "base_uri": "https://localhost:8080/",
     "height": 112
    },
    "id": "nbjxaa_P4jtd",
    "outputId": "b7ad44b2-cf5e-45ce-b489-bddc3a36c2e1"
   },
   "outputs": [],
   "source": [
    "df_group12 = df.groupby('entregue_no_prazo').agg({'ID' : 'nunique'}).reset_index() \n",
    "df_group12"
   ]
  },
  {
   "cell_type": "code",
   "execution_count": null,
   "metadata": {
    "colab": {
     "base_uri": "https://localhost:8080/",
     "height": 237
    },
    "id": "EUKGioqz4vL6",
    "outputId": "9f6a1159-96f3-42e5-fc7b-1be1dcd03da2"
   },
   "outputs": [],
   "source": [
    "df_group13 = df_group11.merge(df_group12, on = 'entregue_no_prazo')\n",
    "df_group13"
   ]
  },
  {
   "cell_type": "code",
   "execution_count": null,
   "metadata": {
    "colab": {
     "base_uri": "https://localhost:8080/",
     "height": 143
    },
    "id": "vlbZKweR4vUb",
    "outputId": "209236ff-5e46-4f45-d2cc-1541ab0feb35"
   },
   "outputs": [],
   "source": [
    "df_group14 = df.groupby('prioridade_produto').agg({'ID' : 'nunique'}).reset_index() \n",
    "df_group14"
   ]
  },
  {
   "cell_type": "code",
   "execution_count": null,
   "metadata": {
    "colab": {
     "base_uri": "https://localhost:8080/",
     "height": 237
    },
    "id": "SDgv-pZ34vcK",
    "outputId": "b32b915a-018e-4d62-fdf2-434c9d51f1d8"
   },
   "outputs": [],
   "source": [
    "df_group15 = df_group11.merge(df_group14, on = 'prioridade_produto')\n",
    "df_group15"
   ]
  },
  {
   "cell_type": "code",
   "execution_count": null,
   "metadata": {
    "colab": {
     "base_uri": "https://localhost:8080/",
     "height": 237
    },
    "id": "QQSNDHFc5Jub",
    "outputId": "59b49d57-b9e7-447f-e672-5f2660c55297"
   },
   "outputs": [],
   "source": [
    "df_group13['Percentual(%)'] = df_group13['ID_x'] / df_group13['ID_y'] * 100\n",
    "df_group13.columns = ['Status de Entrega no Prazo', \n",
    "                      'Prioridade do Produto', \n",
    "                      'Total Por Categoria', \n",
    "                      'Total Geral', \n",
    "                      'Percentual(%)']\n",
    "df_group13"
   ]
  },
  {
   "cell_type": "code",
   "execution_count": null,
   "metadata": {
    "colab": {
     "base_uri": "https://localhost:8080/",
     "height": 237
    },
    "id": "Tj8y7Od25J37",
    "outputId": "c9d81c9b-4152-4ece-c8de-ef78dae92659"
   },
   "outputs": [],
   "source": [
    "df_group15['Percentual(%)'] = df_group15['ID_x'] / df_group15['ID_y'] * 100\n",
    "df_group15.columns = ['Status de Entrega no Prazo', \n",
    "                      'Prioridade do Produto', \n",
    "                      'Total Por Categoria', \n",
    "                      'Total Geral', \n",
    "                      'Percentual(%)']\n",
    "df_group15"
   ]
  },
  {
   "cell_type": "code",
   "execution_count": null,
   "metadata": {},
   "outputs": [],
   "source": [
    "df.columns"
   ]
  },
  {
   "cell_type": "code",
   "execution_count": null,
   "metadata": {
    "colab": {
     "base_uri": "https://localhost:8080/",
     "height": 710
    },
    "id": "Re4BJxF8q9MC",
    "outputId": "a1ea45c4-f94f-42cc-b77d-4daeeb429182"
   },
   "outputs": [],
   "source": [
    "# Gráfico 1 - Análise em Valores Absolutos\n",
    "plt.figure(figsize = (15,10))\n",
    "chart = sns.countplot(data = df, \n",
    "                      x = 'prioridade_produto', \n",
    "                      hue = 'entregue_no_prazo',\n",
    "                      palette = [\"red\",\"green\"])\n",
    "sns.set(font_scale = 1.5)\n",
    "sns.set_style('whitegrid')\n",
    "sns.set_palette('prism')\n",
    "chart.set_xlabel(\"Prioridade do Produto\", fontsize = 14)\n",
    "chart.set_ylabel(\"Total\", fontsize = 14)\n",
    "plt.legend(loc = 'upper right', \n",
    "           borderpad = 1.5, \n",
    "           labelspacing = 1.5, \n",
    "           fontsize = 12, \n",
    "           title = 'Status:')\n",
    "chart.text(x = -0.5, \n",
    "           y = 3700, \n",
    "           s = \"Entregas com Base na Prioridade do Produto (Absoluto)\",\n",
    "           fontsize = 25, \n",
    "           weight = 'bold', \n",
    "           alpha = .75)\n",
    "chart.text(x = -0.5, \n",
    "           y = 3400,\n",
    "           s = 'Produtos com baixa e média prioridade tem maior número de atrasos pois o volume de entregas é maior.',\n",
    "           fontsize = 16, \n",
    "           alpha = .85);"
   ]
  },
  {
   "cell_type": "code",
   "execution_count": null,
   "metadata": {},
   "outputs": [],
   "source": [
    "df_group15.columns"
   ]
  },
  {
   "cell_type": "code",
   "execution_count": null,
   "metadata": {
    "colab": {
     "base_uri": "https://localhost:8080/",
     "height": 690
    },
    "id": "hsmfo36S5nKm",
    "outputId": "1e0b3ef8-fa41-4c91-d256-651364a64c21"
   },
   "outputs": [],
   "source": [
    "# Gráfico 2 - Análise em Valores Percentuais\n",
    "plt.figure(figsize = (15,10))\n",
    "chart = sns.barplot(x = 'Prioridade do Produto', \n",
    "                    y = 'Percentual(%)', \n",
    "                    data = df_group15, \n",
    "                    hue = 'Status de Entrega no Prazo',\n",
    "                    palette = [\"red\",\"green\"])\n",
    "sns.set(font_scale = 1.5)\n",
    "sns.set_style('whitegrid')\n",
    "sns.set_palette('prism')\n",
    "chart.set_xlabel(\"\\nPrioridade do Produto\", fontsize = 14)\n",
    "chart.set_ylabel(\"Percentual(%)\", fontsize = 14)\n",
    "plt.legend(loc = 'upper left', \n",
    "           borderpad = 1.5, \n",
    "           labelspacing = 1.2, \n",
    "           fontsize = 12, \n",
    "           title = 'Status :')\n",
    "chart.text(x = -0.5, \n",
    "           y = 74, \n",
    "           s = \"Entregas com Base na Prioridade do Produto (Percentual)\",\n",
    "           fontsize = 30, \n",
    "           weight = 'bold', \n",
    "           alpha = .75)\n",
    "chart.text(x = -0.5, \n",
    "           y = 69,\n",
    "           s = 'Produtos de alta prioridade apresentam uma diferença maior entre atraso e pontualidade em comparação com \\nmédia e baixa prioridade. Entregas no prazo tem proporção quase similar entre as 3 categorias.',\n",
    "           fontsize = 16, \n",
    "           alpha = .85);"
   ]
  },
  {
   "cell_type": "markdown",
   "metadata": {},
   "source": [
    "### 3- Quais corredores armazenam produtos com maior proporção de entregas com atraso?"
   ]
  },
  {
   "cell_type": "code",
   "execution_count": null,
   "metadata": {},
   "outputs": [],
   "source": [
    "df.columns"
   ]
  },
  {
   "cell_type": "code",
   "execution_count": null,
   "metadata": {
    "colab": {
     "base_uri": "https://localhost:8080/",
     "height": 363
    },
    "id": "a6atq-a36KJF",
    "outputId": "b4c8c2cd-8ecb-4fe9-f03c-cd3835c930d2"
   },
   "outputs": [],
   "source": [
    "df_group21 = df.groupby(['entregue_no_prazo','corredor_armazem']).agg({'ID' : 'nunique'}).reset_index()\n",
    "df_group21"
   ]
  },
  {
   "cell_type": "code",
   "execution_count": null,
   "metadata": {
    "colab": {
     "base_uri": "https://localhost:8080/",
     "height": 112
    },
    "id": "pyn7crlN6KOp",
    "outputId": "f8174889-c98a-4581-9979-8c1096daeed6"
   },
   "outputs": [],
   "source": [
    "df_group22 = df.groupby('entregue_no_prazo').agg({'ID' : 'nunique'}).reset_index() \n",
    "df_group22"
   ]
  },
  {
   "cell_type": "code",
   "execution_count": null,
   "metadata": {
    "colab": {
     "base_uri": "https://localhost:8080/",
     "height": 363
    },
    "id": "RdtJbXsL6KW7",
    "outputId": "5fa12aaa-503c-4157-f68d-2c456c730845"
   },
   "outputs": [],
   "source": [
    "df_group23 = df_group21.merge(df_group22, on = 'entregue_no_prazo')\n",
    "df_group23"
   ]
  },
  {
   "cell_type": "code",
   "execution_count": null,
   "metadata": {
    "colab": {
     "base_uri": "https://localhost:8080/",
     "height": 363
    },
    "id": "5d-51d3-6KeW",
    "outputId": "e8cf6e97-e359-462b-dea9-64a62d055d4a"
   },
   "outputs": [],
   "source": [
    "df_group23['Percentual(%)'] = df_group23['ID_x'] / df_group23['ID_y'] * 100\n",
    "df_group23.columns = ['Status de Entrega no Prazo', \n",
    "                      'Corredor do Armazem', \n",
    "                      'Total Por Categoria', \n",
    "                      'Total Geral', \n",
    "                      'Percentual(%)']\n",
    "df_group23"
   ]
  },
  {
   "cell_type": "code",
   "execution_count": null,
   "metadata": {
    "colab": {
     "base_uri": "https://localhost:8080/",
     "height": 206
    },
    "id": "cSdgrWWx6Kkn",
    "outputId": "3c44116a-332e-49b8-bd99-cd0319deeb00"
   },
   "outputs": [],
   "source": [
    "df_group24 = df.groupby('corredor_armazem').agg({'ID' : 'nunique'}).reset_index() \n",
    "df_group24"
   ]
  },
  {
   "cell_type": "code",
   "execution_count": null,
   "metadata": {
    "colab": {
     "base_uri": "https://localhost:8080/",
     "height": 363
    },
    "id": "eQ2uCe2i6Kti",
    "outputId": "e5c25a95-611f-4a22-d1bf-02b1887cc680"
   },
   "outputs": [],
   "source": [
    "df_group25 = df_group21.merge(df_group24, on = 'corredor_armazem')\n",
    "df_group25"
   ]
  },
  {
   "cell_type": "code",
   "execution_count": null,
   "metadata": {
    "colab": {
     "base_uri": "https://localhost:8080/",
     "height": 363
    },
    "id": "0m4tCesQ6K8w",
    "outputId": "711fa414-a8e4-42db-b42a-6be66620267b"
   },
   "outputs": [],
   "source": [
    "df_group25['Percentual(%)'] = df_group25['ID_x'] / df_group25['ID_y'] * 100\n",
    "df_group25.columns = ['Status de Entrega no Prazo', \n",
    "                      'Corredor do Armazem', \n",
    "                      'Total Por Categoria', \n",
    "                      'Total Geral', \n",
    "                      'Percentual(%)']\n",
    "df_group25"
   ]
  },
  {
   "cell_type": "code",
   "execution_count": null,
   "metadata": {
    "colab": {
     "base_uri": "https://localhost:8080/",
     "height": 714
    },
    "id": "CfrZfM8Qv8qw",
    "outputId": "3ddc9d94-664d-4b2a-d245-eded03c8effe"
   },
   "outputs": [],
   "source": [
    "# Gráfico 1 - Análise em Valores Absolutos\n",
    "plt.figure(figsize = (15,10))\n",
    "chart = sns.countplot(data = df, \n",
    "                      x = 'corredor_armazem', \n",
    "                      hue = 'entregue_no_prazo', \n",
    "                      palette = [\"red\",\"green\"])\n",
    "sns.set(font_scale = 1.5)\n",
    "sns.set_style('whitegrid')\n",
    "sns.set_palette('prism')\n",
    "chart.set_xlabel(\"Corredor do Armazém\", fontsize = 14)\n",
    "chart.set_ylabel(\"Total\", fontsize = 14)\n",
    "plt.legend(loc = 'upper right', \n",
    "           borderpad = 1.5, \n",
    "           labelspacing = 1.2, \n",
    "           fontsize = 12, \n",
    "           title = 'Status:')\n",
    "chart.text(x = -0.5, \n",
    "           y = 2600, \n",
    "           s = \"Entregas com Base no Corredor do Armazém (Absoluto)\",\n",
    "           fontsize = 30, \n",
    "           weight = 'bold', \n",
    "           alpha = .75)\n",
    "chart.text(x = -0.5, \n",
    "           y = 2400,\n",
    "           s = 'Produtos do corredor F são os que mais tem entregas com atraso com base no volume.',\n",
    "           fontsize = 16, \n",
    "           alpha = .85);"
   ]
  },
  {
   "cell_type": "code",
   "execution_count": null,
   "metadata": {},
   "outputs": [],
   "source": [
    "df_group25.columns"
   ]
  },
  {
   "cell_type": "code",
   "execution_count": null,
   "metadata": {
    "colab": {
     "base_uri": "https://localhost:8080/",
     "height": 685
    },
    "id": "AnxhJICFwSXG",
    "outputId": "285fc005-8a4f-4a63-c01c-fa5615964375"
   },
   "outputs": [],
   "source": [
    "# Gráfico 2 - Análise em Valores Percentuais\n",
    "plt.figure(figsize = (15,10))\n",
    "chart = sns.barplot(x = 'Corredor do Armazem', \n",
    "                    y = 'Percentual(%)', \n",
    "                    data = df_group25, \n",
    "                    hue = 'Status de Entrega no Prazo',\n",
    "                    palette = [\"red\",\"green\"])\n",
    "sns.set(font_scale = 1.5)\n",
    "sns.set_style('whitegrid')\n",
    "sns.set_palette('prism')\n",
    "chart.set_xlabel(\"Corredor do Armazém\", fontsize = 14)\n",
    "chart.set_ylabel(\"Percentual(%)\", fontsize = 14)\n",
    "plt.legend(loc = 'upper left', \n",
    "           borderpad = 0.8, \n",
    "           labelspacing = 0.8, \n",
    "           fontsize = 12, \n",
    "           title = 'Status:')\n",
    "chart.text(x = -0.5, \n",
    "           y = 68, \n",
    "           s = \"Entregas com Base no Corredor do Armazém (Percentual)\",\n",
    "           fontsize = 30, \n",
    "           weight = 'bold', \n",
    "           alpha = .75)\n",
    "chart.text(x = -0.5, \n",
    "           y = 65,\n",
    "           s = 'A proporção de atrasos é similar para produtos de todos os corredores, mas produtos do corredor A apresentam a maior taxa de atrasos.',\n",
    "           fontsize = 16, \n",
    "           alpha = .85);"
   ]
  },
  {
   "cell_type": "markdown",
   "metadata": {},
   "source": [
    "### Desafio Ninja:\n",
    "\n",
    "### Como a densidade da variável que representa desconto influencia o status de entrega dos produtos?\n",
    "\n",
    "Responda com apenas um gráfico em uma única linha de código!"
   ]
  },
  {
   "cell_type": "code",
   "execution_count": null,
   "metadata": {},
   "outputs": [],
   "source": [
    "# Resposta com apenas uma linha de código\n",
    "sns.kdeplot(data = df, x = 'desconto', hue = 'entregue_no_prazo');"
   ]
  },
  {
   "cell_type": "code",
   "execution_count": null,
   "metadata": {
    "colab": {
     "base_uri": "https://localhost:8080/",
     "height": 674
    },
    "id": "xR359E3o8Xre",
    "outputId": "1d433902-19a4-4fc0-e44c-dd0e1e4ff6b5"
   },
   "outputs": [],
   "source": [
    "# Resposta com gráfico formatado\n",
    "plt.figure(figsize = (15,8))\n",
    "chart = sns.kdeplot(data = df, \n",
    "                    x = 'desconto',\n",
    "                    hue = 'entregue_no_prazo',\n",
    "                    palette = [\"red\",\"green\"])\n",
    "sns.set(font_scale = 1.5)\n",
    "sns.set_style('white')\n",
    "sns.set_palette('prism')\n",
    "chart.set_xlabel(\"Desconto\", fontsize = 14)\n",
    "chart.set_ylabel(\"Densidade\", fontsize = 14)\n",
    "plt.legend(loc = 'upper right', \n",
    "           borderpad = 1.5, \n",
    "           labelspacing = 1.2, \n",
    "           fontsize = 13, \n",
    "           title = 'Status:', \n",
    "           labels = ['No Prazo', 'Atraso'])\n",
    "chart.text(x = -0.5, \n",
    "           y = 0.047, \n",
    "           s = \"Entregas com Base no Desconto\",\n",
    "           fontsize = 25, \n",
    "           weight = 'bold', \n",
    "           alpha = .75)\n",
    "chart.text(x = -0.5, \n",
    "           y = 0.045,\n",
    "           s = 'Os pacotes tendem a chegar no prazo em entregas com baixos descontos oferecidos.',\n",
    "           fontsize = 16, \n",
    "           alpha = .85);"
   ]
  },
  {
   "cell_type": "markdown",
   "metadata": {
    "id": "CtgJl5vu_Nrw"
   },
   "source": [
    "# Fim"
   ]
  }
 ],
 "metadata": {
  "colab": {
   "collapsed_sections": [
    "2dL4FYK3VmB9"
   ],
   "name": "Stage 1 Final Project - W3.Solutions()",
   "provenance": []
  },
  "kernelspec": {
   "display_name": "Python 3",
   "language": "python",
   "name": "python3"
  },
  "language_info": {
   "codemirror_mode": {
    "name": "ipython",
    "version": 3
   },
   "file_extension": ".py",
   "mimetype": "text/x-python",
   "name": "python",
   "nbconvert_exporter": "python",
   "pygments_lexer": "ipython3",
   "version": "3.7.6"
  }
 },
 "nbformat": 4,
 "nbformat_minor": 1
}
